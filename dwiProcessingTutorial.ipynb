{
 "cells": [
  {
   "cell_type": "markdown",
   "metadata": {},
   "source": [
    "# Diffusion data processing using FSL"
   ]
  },
  {
   "cell_type": "markdown",
   "metadata": {},
   "source": [
    "![flowchart](dwi_flowchart.png)"
   ]
  },
  {
   "cell_type": "markdown",
   "metadata": {},
   "source": [
    "### Commands for pre-pre-processing\n",
    "- convert from dicoms to nifti/bval/bvec\n",
    "- extract B0 volume of the nifti file (assuming it's the first volume)\n",
    "- skullstrip the B0 volume"
   ]
  },
  {
   "cell_type": "code",
   "execution_count": null,
   "metadata": {},
   "outputs": [],
   "source": [
    "%%bash\n",
    "cd  DTIprocessing/Subj1\n",
    "dcm2nii DICOM_folder\n",
    "mv DICOM_folder/*.nii.gz Subj1.nii.gz\n",
    "mv DICOM_folder/*.bvec bvec.bvec\n",
    "mv DICOM_folder/*.bval bval.bval\n",
    "fslroi Subj1.nii.gz b0.nii.gz 0 1\n",
    "bet  b0.nii.gz nodif_brain –f 0.4 –g 0 –m"
   ]
  },
  {
   "cell_type": "markdown",
   "metadata": {},
   "source": [
    "### Commands for preprocessing "
   ]
  },
  {
   "cell_type": "markdown",
   "metadata": {},
   "source": [
    "#### Case 1\n",
    "If you have only one dti data per subject AND no field mapping data collected, then the only preprocessing that can be done is eddy current correction"
   ]
  },
  {
   "cell_type": "code",
   "execution_count": 2,
   "metadata": {},
   "outputs": [
    {
     "name": "stdout",
     "output_type": "stream",
     "text": [
      "Input does not exist or is not in a supported format\n"
     ]
    }
   ],
   "source": [
    "%%bash\n",
    "eddy_correct Subj1.nii.gz  data 0"
   ]
  },
  {
   "cell_type": "markdown",
   "metadata": {},
   "source": [
    "If you are using FSL 5.0.11"
   ]
  },
  {
   "cell_type": "code",
   "execution_count": null,
   "metadata": {},
   "outputs": [],
   "source": [
    "%%bash\n",
    "eddy --imain=Sub1.nii.gz \\\n",
    "--mask=nodif_brain_mask.nii.gz \\\n",
    "--acqp=acqparams.txt \\\n",
    "--index=index.txt \\\n",
    "--bvecs=bvec.bvec \\\n",
    "--bvals=bval.bval \\\n",
    "--topup=my_topup_results \\\n",
    "--niter=8 --fwhm=10,8,4,2,0,0,0,0 \\\n",
    "--repol \\\n",
    "--out=data \\\n",
    "--mporder=6 \\\n",
    "--slspec=my_slspec.txt \\\n",
    "--s2v_niter=5 \\\n",
    "--s2v_lambda=1 \\\n",
    "--s2v_interp=trilinear"
   ]
  },
  {
   "cell_type": "markdown",
   "metadata": {},
   "source": [
    "where acqparams.txt is a textfile with entries \n",
    "\n",
    "```\n",
    "0 1 0 ro\n",
    "```\n",
    "in single row. ro stands for read out time, a parameter that you need to find out from the acquistion protocol. \n",
    "Create this file! Similarly, index.txt is a text file with as many 1's as the # volumes in your Sub1.nii.gz. The 1's can be entered as columns or rows.\n",
    "\n",
    "After this, you are ready for fitting tensor model:"
   ]
  },
  {
   "cell_type": "code",
   "execution_count": null,
   "metadata": {},
   "outputs": [],
   "source": [
    "%%bash\n",
    "dtifit –k data.nii.gz –o dti –m nodif_brain_mask.nii.gz –r bvec.bvec –b bval.bval"
   ]
  },
  {
   "cell_type": "markdown",
   "metadata": {},
   "source": [
    "#### Case 2\n",
    "If you have two sets of data collected with phase encoding polarity switched, then preprocessing for geometric distortion correction can be done prior to eddy current correction. For older FSL versions, \n"
   ]
  },
  {
   "cell_type": "code",
   "execution_count": null,
   "metadata": {},
   "outputs": [],
   "source": [
    "%%bash\n",
    "cd DTIprocessing/Subj1\n",
    "dcm2nii DICOM_folder1\n",
    "dcm2nii DICOM_folder2\n",
    "\n",
    "mv DICOM_folder1/*.nii.gz Subj1_A2P.nii.gz\n",
    "mv DICOM_folder2/*.nii.gz Subj1_P2A.nii.gz\n",
    "\n",
    "fslroi Subj1_A2P.nii.gz b0_A2P.nii.gz 0 1 # the numbers are the dimensions of the data\n",
    "fslroi Subj1_P2A.nii.gz b0_P2A.nii.gz 0 1\n",
    "\n",
    "fslmerge -t A2P_P2A_b0 b0_A2P b0_P2A\n",
    "\n",
    "topup --imain=A2P_P2A_b0 \\\n",
    "--datain=acqparams.txt \\\n",
    "--config=b02b0.cnf \\\n",
    "--out=topup_results \\\n",
    "--iout=my_hifi_b0 \\\n",
    "--fout=my_hifi_fout\n",
    "\n",
    "applytopup --imain=Subj1_A2P,Subj1_P2A \\\n",
    "--inindex=1,2 \\\n",
    "--datatin=acqparams.txt \\\n",
    "--topup=topup_results \\\n",
    "--out=my_hifi_images\n",
    "\n",
    "eddy_correct my_hifi_images.nii.gz data 0\n",
    "\n",
    "fslmaths my_hifi_b0 -Tmean hifi_nodif\n",
    "\n",
    "bet hifi_nodif.nii.gz nodif_brain –f 0.4 –g 0 –m\n",
    "\n",
    "dtifit –k data.nii.gz –o dti –m nodif_brain_mask.nii.gz –r bvec.bvec –b bval.bval"
   ]
  },
  {
   "cell_type": "markdown",
   "metadata": {},
   "source": [
    "For new FSL version:"
   ]
  },
  {
   "cell_type": "code",
   "execution_count": null,
   "metadata": {},
   "outputs": [],
   "source": [
    "%%bash\n",
    "fslmerge -t A2P_P2A Subj1_A2P Subj1_PA_P2A\n",
    "\n",
    "eddy --imain=A2P_P2A.nii.gz \\\n",
    "--mask=nodif_brain_mask.nii.gz \\\n",
    "--acqp=acqparams.txt \\\n",
    "--index=index.txt \\\n",
    "--bvecs=bvec.bvec \\\n",
    "--bvals=bval.bval \\\n",
    "--topup=topup_results \\\n",
    "--niter=8 \\\n",
    "--fwhm=10,8,4,2,0,0,0,0 \\\n",
    "--repol \\\n",
    "--out=data \\\n",
    "--mporder=6 \\\n",
    "--slspec=my_slspec.txt \\\n",
    "--s2v_niter=5 \\\n",
    "--s2v_lambda=1 \\\n",
    "--s2v_interp=trilinear\n",
    "\n",
    "dtifit –k data.nii.gz –o dti –m nodif_brain_mask.nii.gz –r bvec.bvec –b bval.bval"
   ]
  },
  {
   "cell_type": "markdown",
   "metadata": {},
   "source": [
    "where acqparams.txt is a textfile with entries\n",
    "```\n",
    "0 -1 0 ro\n",
    "0 1 0 ro \n",
    "```\n",
    "in two rows. Similarly, index.txt is a text file with as many 1s as the # volumes in your Sub1_A2P.nii.gz and as many 2s as the # volumes in Sub1_P2A.nii.gz "
   ]
  },
  {
   "cell_type": "markdown",
   "metadata": {},
   "source": [
    "Check the output of dtifit and make sure the diffusion directions are estimated correctly!!At this point, you may decide to work with the scalar maps and do a statistical processing of that. To bring all subjects to a common space, you may also run a registration using FLIRT or FNIRT.\n"
   ]
  },
  {
   "cell_type": "code",
   "execution_count": null,
   "metadata": {},
   "outputs": [],
   "source": [
    "%%bash\n",
    "flirt -in nodif_brain.nii.gz \\\n",
    "-ref struct_betted.nii.gz \\\n",
    "-omat xfms/diff2str.mat \\\n",
    "-searchrx -90 90 \\\n",
    "-searchry -90 90 \\\n",
    "-searchrz -90 90 \\\n",
    "-dof 6 -cost corratio\n",
    "\n",
    "convert_xfm -omat xfms/str2diff.mat -inverse xfms/diff2str.mat\n",
    "\n",
    "flirt -in struct_betted.nii.gz \\\n",
    "-ref MNI152_T1_1mm_brain.nii.gz \\\n",
    "-omat xfms/str2standard.mat \\\n",
    "-searchrx -90 90 \\\n",
    "-searchry -90 90 \\\n",
    "-searchrz -90 90 \\\n",
    "-dof 12 -cost corratio\n",
    "\n",
    "convert_xfm -omat xfms/standard2str.mat -inverse xfms/str2standard.mat\n",
    "\n",
    "convert_xfm -omat xfms/diff2standard.mat -concat xfms/str2standard.mat xfms/diff2str.mat\n",
    "\n",
    "convert_xfm -omat xfms/standard2diff.mat -inverse xfms/diff2standard.mat\n"
   ]
  },
  {
   "cell_type": "markdown",
   "metadata": {},
   "source": [
    "Using FNIRT:"
   ]
  },
  {
   "cell_type": "code",
   "execution_count": null,
   "metadata": {},
   "outputs": [],
   "source": [
    "fnirt --in=/struct.nii.gz \\\n",
    "--aff=xfms/str2standard.mat \\\n",
    "--cout=xfms/str2standard_warp \\\n",
    "--config=T1_2_MNI152_2mm"
   ]
  },
  {
   "cell_type": "markdown",
   "metadata": {},
   "source": [
    "For whole brain voxel-wise statistical analysis, you may use feat’s GLM, or randomize or say take it to SPM, AFNI, R and perform analysis there. Alternatively you can do a tbss analysis.\n",
    "\n",
    " For ROI-based analysis, you can extract mean FA values from, say roixyz.nii.gz, as:"
   ]
  },
  {
   "cell_type": "code",
   "execution_count": null,
   "metadata": {},
   "outputs": [],
   "source": [
    "fslmerge -t allFA.nii.gz Subj1_FA.nii.gz Subj2_FA.nii.gz.......\n",
    "fslstats -k roixyz.nii.gz allFA.nii.gz -M"
   ]
  },
  {
   "cell_type": "markdown",
   "metadata": {},
   "source": [
    "### Fiber Tracking Using FSL"
   ]
  },
  {
   "cell_type": "markdown",
   "metadata": {},
   "source": [
    "After dtifit has been successfully run and the fiber directions checked for accuracy, run:"
   ]
  },
  {
   "cell_type": "code",
   "execution_count": null,
   "metadata": {},
   "outputs": [],
   "source": [
    "%%bash\n",
    "bedpostx  Subj1 –n 3"
   ]
  },
  {
   "cell_type": "markdown",
   "metadata": {},
   "source": [
    "(three fiber per voxel)\n",
    "can also work on multi-shell data.\n",
    "\n",
    "\tCome back after 24 hours and we are ready for fiber tracking!!"
   ]
  },
  {
   "cell_type": "markdown",
   "metadata": {},
   "source": [
    "#### probtrackx2\n",
    "Example fiber tracking from an MNI seed mask:"
   ]
  },
  {
   "cell_type": "code",
   "execution_count": null,
   "metadata": {},
   "outputs": [],
   "source": [
    "%%bash\n",
    "probtrackx2 \\\n",
    "-x juelich_prob_WMOpticradiationL_mask1.nii.gz  \\\n",
    "-l --onewaycondition \\\n",
    "-c 0.2 -S 2000 --steplength=0.5 -P 5000 \\\n",
    "--fibthresh=0.01 --distthresh=0.0 \\\n",
    "--sampvox=0.0 \\\n",
    "--xfm=subj1_model2_3fibres.bedpostX/xfms/standard2diff_warp.nii.gz \\\n",
    "--invxfm=subj1_model2_3fibres.bedpostX/xfms/diff2standard_warp.nii.gz \\\n",
    "--forcedir --opd \\\n",
    "-s subj1_model2_3fibres.bedpostX/merged \\\n",
    "-m subj1_model2_3fibres.bedpostX/nodif_brain_mask \\\n",
    "--dir=subj1_model2_3fibres.bedpostX/mm_mni"
   ]
  }
 ],
 "metadata": {
  "kernelspec": {
   "display_name": "Python 3",
   "language": "python",
   "name": "python3"
  },
  "language_info": {
   "codemirror_mode": {
    "name": "ipython",
    "version": 3
   },
   "file_extension": ".py",
   "mimetype": "text/x-python",
   "name": "python",
   "nbconvert_exporter": "python",
   "pygments_lexer": "ipython3",
   "version": "3.6.4"
  }
 },
 "nbformat": 4,
 "nbformat_minor": 2
}
