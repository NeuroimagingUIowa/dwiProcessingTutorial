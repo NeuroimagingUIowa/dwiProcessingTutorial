{
 "cells": [
  {
   "cell_type": "markdown",
   "metadata": {},
   "source": [
    "# Diffusion data processing using FSL"
   ]
  },
  {
   "cell_type": "markdown",
   "metadata": {},
   "source": [
    "![flowchart](dwi_flowchart.png)"
   ]
  },
  {
   "cell_type": "markdown",
   "metadata": {},
   "source": [
    "### Commands for pre-pre-processing\n",
    "- convert from dicoms to nifti/bval/bvec\n",
    "- extract B0 volume of the nifti file (assuming it's the first volume)\n",
    "- skullstrip the B0 volume"
   ]
  },
  {
   "cell_type": "code",
   "execution_count": null,
   "metadata": {},
   "outputs": [],
   "source": [
    "%%bash\n",
    "cd  DTIprocessing/Subj1\n",
    "dcm2nii DICOM_folder\n",
    "mv DICOM_folder/*.nii.gz Subj1.nii.gz\n",
    "mv DICOM_folder/*.bvec bvec.bvec\n",
    "mv DICOM_folder/*.bval bval.bval\n",
    "fslroi Subj1.nii.gz 0 b0.nii.gz 128 0 128 0 60 0 1\n",
    "bet b0.nii.gz nodif_brain –f 0.4 –g 0 –m"
   ]
  },
  {
   "cell_type": "markdown",
   "metadata": {},
   "source": [
    "### Commands for preprocessing "
   ]
  },
  {
   "cell_type": "markdown",
   "metadata": {},
   "source": [
    "#### Case 1\n",
    "If you have only one dti data per subject AND no field mapping data collected, then the only preprocessing that can be done is eddy current correction"
   ]
  },
  {
   "cell_type": "code",
   "execution_count": null,
   "metadata": {},
   "outputs": [],
   "source": [
    "%%bash\n",
    "eddy_correct Subj1.nii.gz  data 0"
   ]
  },
  {
   "cell_type": "markdown",
   "metadata": {},
   "source": [
    "If you are using FSL 5.0.11"
   ]
  },
  {
   "cell_type": "code",
   "execution_count": null,
   "metadata": {},
   "outputs": [],
   "source": [
    "%%bash\n",
    "eddy --imain=Sub1.nii.gz --mask=nodif_brain_mask.nii.gz --acqp=acqparams.txt --index=index.txt --bvecs=bvec.bvec --bvals=bval.bval --topup=my_topup_results --niter=8 --fwhm=10,8,4,2,0,0,0,0 --repol --out=data --mporder=6 --slspec=my_slspec.txt --s2v_niter=5 --s2v_lambda=1 --s2v_interp=trilinear\n"
   ]
  },
  {
   "cell_type": "markdown",
   "metadata": {},
   "source": [
    "where acqparams.txt is a textfile with entries                                                                          0 1 0 1                                                                                                               in a single row. You need to create this! Similarly, index.txt is a text file with as many 1's as the # volumes in your Sub1.nii.gz. The 1's can be entered as columns or rows."
   ]
  },
  {
   "cell_type": "markdown",
   "metadata": {},
   "source": [
    "Afterwards, you are ready for fitting tensor model:\n"
   ]
  },
  {
   "cell_type": "code",
   "execution_count": null,
   "metadata": {},
   "outputs": [],
   "source": [
    "%%bash\n",
    "dtifit –k data.nii.gz –o dti –m nodif_brain_mask.nii.gz –r bvec.bvec –b bval.bval"
   ]
  },
  {
   "cell_type": "markdown",
   "metadata": {},
   "source": [
    "#### Case 2\n",
    "If you have two sets of data collected with phase encoding polarity switched, then preprocessing for geometric distortion correction can be done prior to eddy current correction. For older FSL versions (<5.0.11?)."
   ]
  },
  {
   "cell_type": "code",
   "execution_count": null,
   "metadata": {},
   "outputs": [],
   "source": [
    "%%bash\n",
    "cd  DTIprocessing/Subj1\n",
    "dcm2nii DICOM_folder1\n",
    "dcm2nii DICOM_folder2\n",
    "\n",
    "mv DICOM_folder1/*.nii.gz Subj1_A2P.nii.gz\n",
    "mv DICOM_folder2/*.nii.gz Subj1_P2A.nii.gz\n",
    "\n",
    "fslroi Subj1_A2P.nii.gz b0_A2P.nii.gz 0 128 0 128 0 60 0 1 # the numbers are the dimensions of the data\n",
    "fslroi Subj1_P2A.nii.gz b0_P2A.nii.gz 0 128 0 128 0 60 0 1\n",
    "\n",
    "bet b0_A2P.nii.gz nodif_brain –f 0.4 –g 0 –m\n",
    "\n",
    "fslmerge -t A2P_P2A_b0 b0_A2P.nii.gz b0_P2A.nii.gz \n",
    "\n",
    "topup --imain=A2P_P2A_b0 --datain=acqparams.txt --config=b02b0.cnf --out=topup_results --iout=my_hifi_b0\n",
    "\n",
    "applytopup --imain=A2P,P2A --inindex=1,2 --datatin=acqparams.txt --topup=topup_results --out=my_hifi_images\n",
    "\n",
    "eddy_correct my_hifi_images.nii.gz data 0\n",
    "\n",
    "dtifit –k data.nii.gz –o dti –m nodif_brain_mask.nii.gz –r bvec.bvec –b bval.bval"
   ]
  },
  {
   "cell_type": "markdown",
   "metadata": {},
   "source": [
    "For new FSL version (>5.0.11):"
   ]
  },
  {
   "cell_type": "code",
   "execution_count": null,
   "metadata": {},
   "outputs": [],
   "source": [
    "%%bash\n",
    "eddy --imain=Sub1.nii.gz --mask=nodif_brain_mask.nii.gz --acqp=acqparams.txt --index=index.txt --bvecs=bvec.bvec --bvals=bval.bval --topup=my_topup_results --niter=8 --fwhm=10,8,4,2,0,0,0,0 --repol --out=data --mporder=6 --slspec=my_slspec.txt --s2v_niter=5 --s2v_lambda=1 --s2v_interp=trilinear\n",
    "dtifit –k data.nii.gz –o dti –m nodif_brain_mask.nii.gz –r bvec.bvec –b bval.bval"
   ]
  },
  {
   "cell_type": "markdown",
   "metadata": {},
   "source": [
    "where acqparams.txt is a textfile with entries\n",
    "0 1 0 1\n",
    "0 -1 0 1 \n",
    "in two rows. \n",
    "You need to create this! Similarly, index.txt is a text file with as many 1s as the # volumes in your Sub1_A2P.nii.gz and as many 2s as the # volumes in Sub1_P2A.nii.gz "
   ]
  },
  {
   "cell_type": "markdown",
   "metadata": {},
   "source": [
    "Check the output of dtifit and make sure the diffusion directions are estimated correctly!!"
   ]
  },
  {
   "cell_type": "markdown",
   "metadata": {},
   "source": [
    "### Other post-processing options\n",
    "At this point, you may decide to work with the scalar maps and do a statistical processing of that. To bring all subjects to a common space, you may also run a registration using FLIRT or FNIRT.\n",
    "\n",
    "For whole brain voxel-wise statistical analysis, you may use feat’s GLM, or randomize or say take it to SPM, AFNI, R and perform analysis there.\n",
    "\n",
    " For ROI-based analysis, you can extract mean FA values from say roixyz.nii.gz\n",
    "\n",
    "fslmerge\n",
    "fslstats "
   ]
  },
  {
   "cell_type": "markdown",
   "metadata": {},
   "source": [
    "### Fiber Tracking Using FSL"
   ]
  },
  {
   "cell_type": "markdown",
   "metadata": {},
   "source": [
    "After dtifit has been successfully run and the fiber directions checked for accuracy, run:"
   ]
  },
  {
   "cell_type": "code",
   "execution_count": null,
   "metadata": {},
   "outputs": [],
   "source": [
    "%%bash\n",
    "bedpostx  Subj1 –n 3"
   ]
  },
  {
   "cell_type": "markdown",
   "metadata": {},
   "source": [
    "(three fiber per voxel)\n",
    "can also work on multi-shell data.\n",
    "\n",
    "\tCome back after 24 hours and we are ready for fiber tracking!!"
   ]
  },
  {
   "cell_type": "code",
   "execution_count": null,
   "metadata": {},
   "outputs": [],
   "source": []
  }
 ],
 "metadata": {
  "kernelspec": {
   "display_name": "Python 3",
   "language": "python",
   "name": "python3"
  },
  "language_info": {
   "codemirror_mode": {
    "name": "ipython",
    "version": 3
   },
   "file_extension": ".py",
   "mimetype": "text/x-python",
   "name": "python",
   "nbconvert_exporter": "python",
   "pygments_lexer": "ipython3",
   "version": "3.6.4"
  }
 },
 "nbformat": 4,
 "nbformat_minor": 2
}
